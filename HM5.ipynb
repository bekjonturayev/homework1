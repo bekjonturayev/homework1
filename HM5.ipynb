{
 "cells": [
  {
   "cell_type": "markdown",
   "id": "cf3ae727",
   "metadata": {},
   "source": [
    "Для того чтобы оценка за данную работу пошла в зачёт нужно отправить ссылку на нее в гит или ноутбук до <b> 17.10.2021 17:00 </b>."
   ]
  },
  {
   "cell_type": "markdown",
   "id": "cfc3e82d",
   "metadata": {},
   "source": [
    "<b>Задание 1.</b> Создайте массив, который состоит из целых чисел от -50 до 50 включительно. Затем удалите последние 25 элеметов массива. Затем разверните массив. Добавьте в конец массива 999. Создайте новый массив в который войдут все четные числа из ранее полученного массива и напечатайте его."
   ]
  },
  {
   "cell_type": "code",
   "execution_count": 7,
   "id": "f65fc6c1",
   "metadata": {},
   "outputs": [
    {
     "name": "stdout",
     "output_type": "stream",
     "text": [
      "24\n",
      "22\n",
      "20\n",
      "18\n",
      "16\n",
      "14\n",
      "12\n",
      "10\n",
      "8\n",
      "6\n",
      "4\n",
      "2\n",
      "0\n",
      "-2\n",
      "-4\n",
      "-6\n",
      "-8\n",
      "-10\n",
      "-12\n",
      "-14\n",
      "-16\n",
      "-18\n",
      "-20\n",
      "-22\n",
      "-24\n",
      "-26\n",
      "-28\n",
      "-30\n",
      "-32\n",
      "-34\n",
      "-36\n",
      "-38\n",
      "-40\n",
      "-42\n",
      "-44\n",
      "-46\n",
      "-48\n",
      "-50\n"
     ]
    }
   ],
   "source": [
    "# решение\n",
    "array = list(range(-50,51))\n",
    "for i in range(25):\n",
    "    array.pop()\n",
    "    i += 1\n",
    "array.reverse()\n",
    "array.append(999)\n",
    "k_array = list()\n",
    "for elem in array:\n",
    "    if elem % 2 == 0:\n",
    "        k_array.append(elem)\n",
    "for i in range(len(k_array)):\n",
    "        print(k_array[i])\n",
    "        "
   ]
  },
  {
   "cell_type": "markdown",
   "id": "4907145c",
   "metadata": {},
   "source": [
    "<b>Задание 2.</b> Даны несколько массивов целых чисел (A, B, C, D). Напишите программный код, с помощью которого вы сможете определить длину самой длинной непрерывной последовательности равных значений для каждого из массивов."
   ]
  },
  {
   "cell_type": "code",
   "execution_count": 8,
   "id": "02880b3a",
   "metadata": {},
   "outputs": [],
   "source": [
    "# [1, 1, 1, 2, 3, 4, 5, 6, 3, 4, 1, 1, 1, 1] - самая длинная последовательность длины 4\n",
    "A = [1] * 20 + [1, 1, 3] * 30 + [1] * 21\n",
    "\n",
    "B = list(range(1, 9, 2)) * 3 + list(range(4, 1, 1)) * 2 + [3] * 3\n",
    "B.pop()\n",
    "B.reverse()\n",
    "B.pop()\n",
    "B.reverse()\n",
    "\n",
    "C = [b - 2 for b in B]\n",
    "C.reverse()\n",
    "C =  A + C\n",
    "\n",
    "D = [777] + [666] + [1,2,1,1] * 2 + [1,1,1,1,3]*3 + [1, 4] * 2"
   ]
  },
  {
   "cell_type": "code",
   "execution_count": 18,
   "id": "a28bc2bc",
   "metadata": {},
   "outputs": [
    {
     "name": "stdout",
     "output_type": "stream",
     "text": [
      "21\n"
     ]
    }
   ],
   "source": [
    "# решение\n",
    "A = [1] * 20 + [1, 1, 3] * 30 + [1] * 21\n",
    "n = 0\n",
    "empty_array = list()\n",
    "for i in range(1,len(A)):\n",
    "    if A[i-1] == A[i]:\n",
    "        n += 1\n",
    "    else:\n",
    "        empty_array.append(n)\n",
    "        n = 0\n",
    "k = max(empty_array)\n",
    "print(k)"
   ]
  },
  {
   "cell_type": "markdown",
   "id": "8efc26b7",
   "metadata": {},
   "source": [
    "<b>Задание 3.</b> Напишите функция, которая на вход принимает прямоугольную матрицу и возвращает транспонированную матрицу. Протестируйте функцию на матрицах A, B, C."
   ]
  },
  {
   "cell_type": "code",
   "execution_count": 32,
   "id": "d27847e4",
   "metadata": {},
   "outputs": [],
   "source": [
    "A = [[1, 1], [1, 0]]\n",
    "B = [[2, 3, 4], [4, 5, 6], [7, -1, -2], [-4, -6, 99], [1, 0, 1]]\n",
    "C = [[1, 2, 3, 4, 5]]"
   ]
  },
  {
   "cell_type": "code",
   "execution_count": 1,
   "id": "8cce8472",
   "metadata": {},
   "outputs": [],
   "source": [
    "# решение\n"
   ]
  },
  {
   "cell_type": "code",
   "execution_count": 3,
   "id": "d9f76c74",
   "metadata": {},
   "outputs": [],
   "source": [
    "import random\n",
    "import math"
   ]
  },
  {
   "cell_type": "code",
   "execution_count": null,
   "id": "e2fc0c0e",
   "metadata": {},
   "outputs": [],
   "source": [
    "a_array = list(range(2,201,2))\n",
    "b_array = list(range(1,200,2))\n",
    "c_array = list()\n",
    "S_array = list()\n",
    "summ = 0\n",
    "count_b = 0\n",
    "n = math.factorial(400)\n",
    "for i in range(n):\n",
    "    k = random.randrange(1,201)\n",
    "    if k not in c_array:\n",
    "        if k % 2 == 0 and count_b > 0:\n",
    "            summ += 50\n",
    "            count_b -= 1\n",
    "            c_array.append(k)\n",
    "        if k % 2 == 1:\n",
    "            count_b += 1\n",
    "            summ += 50\n",
    "            c_array.append(k)\n",
    "        if summ == 10000 and c_array not in S_array:\n",
    "            S_array.append(c_array)\n",
    "            c_array = list()\n",
    "            summ = 0\n",
    "print(len(S_array)/math.factorial(200))"
   ]
  },
  {
   "cell_type": "code",
   "execution_count": null,
   "id": "002323d2",
   "metadata": {},
   "outputs": [],
   "source": []
  }
 ],
 "metadata": {
  "kernelspec": {
   "display_name": "Python 3",
   "language": "python",
   "name": "python3"
  },
  "language_info": {
   "codemirror_mode": {
    "name": "ipython",
    "version": 3
   },
   "file_extension": ".py",
   "mimetype": "text/x-python",
   "name": "python",
   "nbconvert_exporter": "python",
   "pygments_lexer": "ipython3",
   "version": "3.8.8"
  }
 },
 "nbformat": 4,
 "nbformat_minor": 5
}
