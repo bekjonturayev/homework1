{
 "cells": [
  {
   "cell_type": "markdown",
   "id": "fc8523ff",
   "metadata": {},
   "source": [
    "# План занятия\n",
    "- циклы (while, for)\n",
    "- массивы (списки)\n",
    "- функции\n",
    "- реализация функции скалярного произведения\n",
    "- реализация метода обучения персептрона\n",
    "- тест на 10 минут"
   ]
  },
  {
   "cell_type": "markdown",
   "id": "76688ca6",
   "metadata": {},
   "source": [
    "# Циклы\n",
    "- while\n",
    "- for"
   ]
  },
  {
   "cell_type": "markdown",
   "id": "d685403b",
   "metadata": {},
   "source": [
    "## While\n",
    "Вычисления нередко приходится повторять. Предназначенная для этого базовая конструкция Python имеет следующий формат:\n",
    "\n",
    "<code>while <логическое выражение>:\n",
    "    <оператор 1>\n",
    "    <оператор 2>\n",
    "    <оператор 3>\n",
    "        ...</code>\n",
    "        \n",
    "Оператор while имеет ту же форму, что и оператор if, но отличается назначением. Он работает следующим образом: если результат логического выражения False, то не делает ничего, если результат True - выполнить блок операторов ниже, а затем снова проверить выражение и выполнить ещё раз последовательность операторов, если выражение возвращает True, и продолжать до тех пор пока логическое выражение остаётся истинным. Логическое выражение - условие продолжения цикла."
   ]
  },
  {
   "cell_type": "code",
   "execution_count": null,
   "id": "7bb4cff3",
   "metadata": {
    "scrolled": true
   },
   "outputs": [],
   "source": [
    "# пример\n",
    "i = 0 \n",
    "while i <= 5:\n",
    "    print('i =',i)\n",
    "    i = i + 1"
   ]
  },
  {
   "cell_type": "markdown",
   "id": "a9d68a3e",
   "metadata": {},
   "source": [
    "Оператор while последовательности одинаковых операторов if: <br>\n",
    "<code>if <логическое выражение>:\n",
    "    <оператор 1>\n",
    "    <оператор 2>\n",
    "    <оператор 3>\n",
    "        ...</code> <br>\n",
    "<code>if <логическое выражение>:\n",
    "    <оператор 1>\n",
    "    <оператор 2>\n",
    "    <оператор 3>\n",
    "        ...</code> <br>\n",
    "<code>if <логическое выражение>:\n",
    "    <оператор 1>\n",
    "    <оператор 2>\n",
    "    <оператор 3>\n",
    "        ...</code><br>\n",
    "<code>if <логическое выражение>:\n",
    "    <оператор 1>\n",
    "    <оператор 2>\n",
    "    <оператор 3>\n",
    "        ...</code>"
   ]
  },
  {
   "cell_type": "code",
   "execution_count": null,
   "id": "f8b93b38",
   "metadata": {
    "scrolled": true
   },
   "outputs": [],
   "source": [
    "i = 0 \n",
    "if i <= 5:\n",
    "    print('i =',i)\n",
    "    i = i + 1\n",
    "if i <= 5:\n",
    "    print('i =',i)\n",
    "    i = i + 1\n",
    "if i <= 5:\n",
    "    print('i =',i)\n",
    "    i = i + 1\n",
    "if i <= 5:\n",
    "    print('i =',i)\n",
    "    i = i + 1\n",
    "if i <= 5:\n",
    "    print('i =',i)\n",
    "    i = i + 1\n",
    "if i <= 5:\n",
    "    print('i =',i)\n",
    "    i = i + 1\n",
    "if i <= 5:\n",
    "    print('i =',i)\n",
    "    i = i + 1\n",
    "if i <= 5:\n",
    "    print('i =',i)\n",
    "    i = i + 1"
   ]
  },
  {
   "cell_type": "markdown",
   "id": "5b6e867b",
   "metadata": {},
   "source": [
    "Чтобы условие продолжения работы цикла стало в конечном счёте ложным (=False) и цикл завершился, в теле цикла должно изменяться значение одно или нескольких переменных."
   ]
  },
  {
   "cell_type": "code",
   "execution_count": null,
   "id": "50f7dbb0",
   "metadata": {},
   "outputs": [],
   "source": [
    "i = 0\n",
    "j = 5\n",
    "while j > 0:\n",
    "    i = i + 1\n",
    "    print(i)"
   ]
  },
  {
   "cell_type": "code",
   "execution_count": null,
   "id": "a3b27918",
   "metadata": {},
   "outputs": [],
   "source": [
    "# пример: вывести 10 раз Привет"
   ]
  },
  {
   "cell_type": "code",
   "execution_count": null,
   "id": "310c8cf4",
   "metadata": {},
   "outputs": [],
   "source": [
    "# пример: вычисление степени числа\n",
    "n = 5 # число\n",
    "degree = 5 # степень"
   ]
  },
  {
   "cell_type": "code",
   "execution_count": null,
   "id": "72557b54",
   "metadata": {},
   "outputs": [],
   "source": [
    "# вывод на экран всех чётных числе от 3 до 234 включительно"
   ]
  },
  {
   "cell_type": "markdown",
   "id": "885821d9",
   "metadata": {},
   "source": [
    "Сокращённая запись присвоения:\n",
    "<code>\n",
    "    i = i + 1\n",
    "</code>\n",
    "Можно записать\n",
    "<code>\n",
    "    i += 1\n",
    "</code>"
   ]
  },
  {
   "cell_type": "markdown",
   "id": "98691558",
   "metadata": {},
   "source": [
    "Использую оператор while можно создавать практически любые циклы. Мы рассмотрим с вами альтернатиную конструкцию - оператор for, он добавит больше гибкости. Оператор for часто позволяет написать более компактный и читаемый код программы, чем при использовании оператора while."
   ]
  },
  {
   "cell_type": "markdown",
   "id": "c0388ebe",
   "metadata": {},
   "source": [
    "## For"
   ]
  },
  {
   "cell_type": "markdown",
   "id": "2c79e00a",
   "metadata": {},
   "source": [
    "Очень часто в программировании для решения задачи используют конструкцию цикл со счётчиком. \n",
    "<code>\n",
    "    <переменная> = <старт (начальное значение переменной)>\n",
    "    while <переменная> < <стоп>:\n",
    "        <блок операторов>\n",
    "        <переменная> += 1 # тоже самое, что и <переменная> = <переменная> + 1"
   ]
  },
  {
   "cell_type": "markdown",
   "id": "e8aea65f",
   "metadata": {},
   "source": [
    "Оператор for обеспечивает более компактный способ реализации цикла со счетчиком. В языке Python оператор for имеет несколько форматов. Пока рассмотрим следующий шаблон:"
   ]
  },
  {
   "cell_type": "markdown",
   "id": "e5d69f50",
   "metadata": {},
   "source": [
    "<code>for <переменная> in range(<старт>, <стоп>):\n",
    "    <блок операторов>"
   ]
  },
  {
   "cell_type": "markdown",
   "id": "695766cc",
   "metadata": {},
   "source": [
    "<code>Аргументы <старт> и <стоп> встроенной функции range() должны быть целыми числами. Когда оператор дан в этой форме Python многократно выполняет блок операторов с отступом. На первой итерации цикла <переменная> имеет значение <старт>, на второй <старт>  + 1 и так далее. На последний итерации цикла <переменная> имеет значение <стоп> - 1. Если говорить коротко, то оператор for многократно выполняет <блок операторов> с отступом, причём переменная меняется от <старт> до <стоп> - 1 включительно."
   ]
  },
  {
   "cell_type": "code",
   "execution_count": null,
   "id": "ca491b34",
   "metadata": {},
   "outputs": [],
   "source": [
    "i = 0 # <переменная> = <старт> переменная - i, старт - 0\n",
    "while i < 5: # while <переменная> < <стоп> переменная - i, стоп - 5\n",
    "    # то есть пока i меньше пяти операторы с отступом следующие за while будут выполняться\n",
    "    print ('i =', i) # вывод на экран\n",
    "    i = i + 1 # увеличивает значение i на 1 на каждом шаге"
   ]
  },
  {
   "cell_type": "code",
   "execution_count": null,
   "id": "0eaf6ae0",
   "metadata": {},
   "outputs": [],
   "source": [
    "# пример: переписать данный цикл использую for"
   ]
  },
  {
   "cell_type": "code",
   "execution_count": null,
   "id": "efaceebd",
   "metadata": {},
   "outputs": [],
   "source": [
    "# пример: вычислить n!\n",
    "n = 5"
   ]
  },
  {
   "cell_type": "code",
   "execution_count": null,
   "id": "a5c8d8e3",
   "metadata": {},
   "outputs": [],
   "source": [
    "# пример: вычислить сумму от 1 до n\n",
    "n = 10"
   ]
  },
  {
   "cell_type": "code",
   "execution_count": null,
   "id": "09e25319",
   "metadata": {},
   "outputs": [],
   "source": [
    "# Как обратиться к командной строке из ноутбука?"
   ]
  },
  {
   "cell_type": "code",
   "execution_count": null,
   "id": "fedd51ff",
   "metadata": {},
   "outputs": [],
   "source": [
    "#!ls -l -sh"
   ]
  },
  {
   "cell_type": "markdown",
   "id": "b7dc78c5",
   "metadata": {},
   "source": [
    "# Вложенный циклы"
   ]
  },
  {
   "cell_type": "code",
   "execution_count": null,
   "id": "093444a1",
   "metadata": {
    "scrolled": true
   },
   "outputs": [],
   "source": [
    "# пример\n",
    "for i in range(0, 3): # range(0, 3) = range(3) если в range передеать 1 параметр,\n",
    "                        # то начальное значение(старт) будет равно нулю\n",
    "    for j in range(0, 3):\n",
    "        print('i=',i,'j=',j)"
   ]
  },
  {
   "cell_type": "code",
   "execution_count": null,
   "id": "457efc68",
   "metadata": {},
   "outputs": [],
   "source": [
    "from sys import stdout as std"
   ]
  },
  {
   "cell_type": "code",
   "execution_count": null,
   "id": "8a85dd72",
   "metadata": {
    "scrolled": true
   },
   "outputs": [],
   "source": [
    "# пример\n",
    "for i in range(20):\n",
    "    for j in range(20):\n",
    "        if (i == 0) or (j == 4) or (i == 16) or (j == 19):\n",
    "            std.write('*')\n",
    "        else:\n",
    "            std.write(' ')\n",
    "    std.write('\\n')"
   ]
  },
  {
   "cell_type": "markdown",
   "id": "e3ae89a9",
   "metadata": {},
   "source": [
    "Наш следующий пример, демонстрирует ситуацию(обычную), когда компьютеры используются для моделирования того что могло бы произойти в реальном мире, чтобы принимать более обоснованные решения.\n",
    "\n",
    "Следующий пример относится к классу задач известных как задача о разорении игрока. Предположим, что игрок последовательно делает неограниченную серию ставок, начиная с некоторой заданной суммы. В конечно счёте игрок всегда проигрывает, но если установить некие пределы для игры, то возникают различные вопросы. Допустим, игрок решает уйти после получения определённого выигрыша. Какова вероятность того, что он выиграет? Сколько ставок может понадобиться чтобы выиграть или проиграть? Какова максимальная сумма, которую игрок будет иметь в течении игры."
   ]
  },
  {
   "cell_type": "code",
   "execution_count": 2,
   "id": "a3406766",
   "metadata": {},
   "outputs": [],
   "source": [
    "import random"
   ]
  },
  {
   "cell_type": "code",
   "execution_count": 3,
   "id": "6830b80b",
   "metadata": {},
   "outputs": [
    {
     "data": {
      "text/plain": [
       "1"
      ]
     },
     "execution_count": 3,
     "metadata": {},
     "output_type": "execute_result"
    }
   ],
   "source": [
    "random.randrange(0, 3) # возвращает случайное целое число из диапазона range(0, 3)\n",
    "#  т. е. это может быть 0, 1, 2"
   ]
  },
  {
   "cell_type": "code",
   "execution_count": 4,
   "id": "634c7a99",
   "metadata": {},
   "outputs": [
    {
     "name": "stdout",
     "output_type": "stream",
     "text": [
      "lose\n"
     ]
    }
   ],
   "source": [
    "stake = 500 #начальная сумма\n",
    "goal = 1000 #цель\n",
    "\n",
    "bets = 0 #количество ставок\n",
    "\n",
    "while stake > 0 and stake < goal:\n",
    "    if random.randrange(2) == 1:\n",
    "        stake += 1\n",
    "    else:\n",
    "        stake -= 1\n",
    "    \n",
    "    bets += 1\n",
    "\n",
    "if (stake == goal):\n",
    "    print('win')\n",
    "else:\n",
    "    print('lose')"
   ]
  },
  {
   "cell_type": "code",
   "execution_count": 5,
   "id": "0f0b4d96",
   "metadata": {},
   "outputs": [],
   "source": [
    "from tqdm.auto import tqdm"
   ]
  },
  {
   "cell_type": "code",
   "execution_count": 6,
   "id": "4ce3df79",
   "metadata": {},
   "outputs": [
    {
     "data": {
      "application/vnd.jupyter.widget-view+json": {
       "model_id": "2ae3e9e3529d49079e8dd6cb6cd6f5e3",
       "version_major": 2,
       "version_minor": 0
      },
      "text/plain": [
       "  0%|          | 0/1000 [00:00<?, ?it/s]"
      ]
     },
     "metadata": {},
     "output_type": "display_data"
    },
    {
     "name": "stdout",
     "output_type": "stream",
     "text": [
      "0.467\n"
     ]
    }
   ],
   "source": [
    "stake = 500 #начальная сумма\n",
    "goal = 1000 #цель\n",
    "trial = 1000 #количество попыток\n",
    "\n",
    "bets = 0 #количество ставок\n",
    "wins = 0 #количесвто побед\n",
    "for i in tqdm(range(trial)):\n",
    "    cash = stake\n",
    "    while cash > 0 and cash < goal:\n",
    "        if random.randrange(2) == 1:\n",
    "            cash += 1\n",
    "        else:\n",
    "            cash -= 1\n",
    "\n",
    "        bets += 1\n",
    "\n",
    "    if (cash == goal):\n",
    "        wins += 1\n",
    "\n",
    "print(wins/trial)"
   ]
  },
  {
   "cell_type": "code",
   "execution_count": 11,
   "id": "0b4a9578",
   "metadata": {
    "scrolled": false
   },
   "outputs": [
    {
     "data": {
      "application/vnd.jupyter.widget-view+json": {
       "model_id": "622077f76ba94eaab519ea95c379b19a",
       "version_major": 2,
       "version_minor": 0
      },
      "text/plain": [
       "  0%|          | 0/10000 [00:00<?, ?it/s]"
      ]
     },
     "metadata": {},
     "output_type": "display_data"
    },
    {
     "name": "stdout",
     "output_type": "stream",
     "text": [
      "0.8232\n"
     ]
    }
   ],
   "source": [
    "# в чём состоит удоство задавать всё через переменные значения?\n",
    "stake = 100 #начальная сумма\n",
    "goal = 120 #цель\n",
    "trial = 10000 #количество попыток\n",
    "\n",
    "bets = 0 #количество ставок\n",
    "wins = 0 #количесвто побед\n",
    "proba_arr = []\n",
    "bets_arr = []\n",
    "for i in tqdm(range(trial)):\n",
    "    cash = stake\n",
    "    bets = 0\n",
    "    while cash > 0 and cash < goal:\n",
    "        if random.randrange(2) == 1:\n",
    "            cash += 1\n",
    "        else:\n",
    "            cash -= 1\n",
    "\n",
    "        bets += 1\n",
    "\n",
    "    if (cash == goal):\n",
    "        wins += 1\n",
    "    proba_arr.append(wins/(i + 1))\n",
    "    bets_arr.append(bets)\n",
    "print(wins/trial)"
   ]
  },
  {
   "cell_type": "code",
   "execution_count": 8,
   "id": "5e141810",
   "metadata": {},
   "outputs": [
    {
     "data": {
      "text/plain": [
       "0.5"
      ]
     },
     "execution_count": 8,
     "metadata": {},
     "output_type": "execute_result"
    }
   ],
   "source": [
    "stake/goal"
   ]
  },
  {
   "cell_type": "code",
   "execution_count": 12,
   "id": "75b05f98",
   "metadata": {},
   "outputs": [],
   "source": [
    "import matplotlib.pyplot as plt"
   ]
  },
  {
   "cell_type": "code",
   "execution_count": 13,
   "id": "8f9fa71a",
   "metadata": {
    "scrolled": true
   },
   "outputs": [
    {
     "data": {
      "text/plain": [
       "[<matplotlib.lines.Line2D at 0x7ff072c48eb0>]"
      ]
     },
     "execution_count": 13,
     "metadata": {},
     "output_type": "execute_result"
    },
    {
     "data": {
      "image/png": "[encoded data removed]",
      "text/plain": [
       "<Figure size 432x288 with 1 Axes>"
      ]
     },
     "metadata": {
      "needs_background": "light"
     },
     "output_type": "display_data"
    }
   ],
   "source": [
    "plt.plot(proba_arr[100:])\n",
    "plt.plot([1/2]*trial)"
   ]
  },
  {
   "cell_type": "code",
   "execution_count": 14,
   "id": "9f27a666",
   "metadata": {
    "scrolled": false
   },
   "outputs": [
    {
     "data": {
      "text/plain": [
       "2029.2308"
      ]
     },
     "execution_count": 14,
     "metadata": {},
     "output_type": "execute_result"
    }
   ],
   "source": [
    "sum(bets_arr)/len(bets_arr) "
   ]
  },
  {
   "cell_type": "code",
   "execution_count": 15,
   "id": "a57473b8",
   "metadata": {},
   "outputs": [
    {
     "data": {
      "text/plain": [
       "2000"
      ]
     },
     "execution_count": 15,
     "metadata": {},
     "output_type": "execute_result"
    }
   ],
   "source": [
    "stake * (goal - stake)"
   ]
  },
  {
   "cell_type": "code",
   "execution_count": 16,
   "id": "7da359c4",
   "metadata": {},
   "outputs": [
    {
     "data": {
      "text/plain": [
       "[<matplotlib.lines.Line2D at 0x7ff072fcb610>]"
      ]
     },
     "execution_count": 16,
     "metadata": {},
     "output_type": "execute_result"
    },
    {
     "data": {
      "image/png": "[encoded data removed]",
      "text/plain": [
       "<Figure size 432x288 with 1 Axes>"
      ]
     },
     "metadata": {
      "needs_background": "light"
     },
     "output_type": "display_data"
    }
   ],
   "source": [
    "plt.plot(bets_arr)\n",
    "plt.plot([stake * (goal - stake)]*trial)"
   ]
  },
  {
   "cell_type": "code",
   "execution_count": 18,
   "id": "4ec59fe7",
   "metadata": {},
   "outputs": [
    {
     "ename": "NameError",
     "evalue": "name 'np' is not defined",
     "output_type": "error",
     "traceback": [
      "\u001b[0;31m---------------------------------------------------------------------------\u001b[0m",
      "\u001b[0;31mNameError\u001b[0m                                 Traceback (most recent call last)",
      "\u001b[0;32m<ipython-input-18-002a6784ff0f>\u001b[0m in \u001b[0;36m<module>\u001b[0;34m\u001b[0m\n\u001b[0;32m----> 1\u001b[0;31m \u001b[0mplt\u001b[0m\u001b[0;34m.\u001b[0m\u001b[0mplot\u001b[0m\u001b[0;34m(\u001b[0m\u001b[0mnp\u001b[0m\u001b[0;34m.\u001b[0m\u001b[0mlog1p\u001b[0m\u001b[0;34m(\u001b[0m\u001b[0mbets_arr\u001b[0m\u001b[0;34m)\u001b[0m\u001b[0;34m)\u001b[0m\u001b[0;34m\u001b[0m\u001b[0;34m\u001b[0m\u001b[0m\n\u001b[0m\u001b[1;32m      2\u001b[0m \u001b[0mplt\u001b[0m\u001b[0;34m.\u001b[0m\u001b[0mplot\u001b[0m\u001b[0;34m(\u001b[0m\u001b[0mnp\u001b[0m\u001b[0;34m.\u001b[0m\u001b[0mlog1p\u001b[0m\u001b[0;34m(\u001b[0m\u001b[0;34m[\u001b[0m\u001b[0mstake\u001b[0m \u001b[0;34m*\u001b[0m \u001b[0;34m(\u001b[0m\u001b[0mgoal\u001b[0m \u001b[0;34m-\u001b[0m \u001b[0mstake\u001b[0m\u001b[0;34m)\u001b[0m\u001b[0;34m]\u001b[0m\u001b[0;34m*\u001b[0m\u001b[0mtrial\u001b[0m\u001b[0;34m)\u001b[0m\u001b[0;34m)\u001b[0m\u001b[0;34m\u001b[0m\u001b[0;34m\u001b[0m\u001b[0m\n",
      "\u001b[0;31mNameError\u001b[0m: name 'np' is not defined"
     ]
    }
   ],
   "source": [
    "plt.plot(np.log1p(bets_arr))\n",
    "plt.plot(np.log1p([stake * (goal - stake)]*trial))"
   ]
  },
  {
   "cell_type": "markdown",
   "id": "c5d733e3",
   "metadata": {},
   "source": [
    "- Действительно ли модель точно отражает происходящее в жизни? \n",
    "- Сколько попыток нужно для получения точного ответа?\n",
    "- Каковы вычислительные пределы такой имитации?\n",
    "\n",
    "Моделирование широко используется в экономике, науке и технике, а вопросы такого рода очень важны для любой модели.\n",
    "\n",
    "В случае нашей задачи мы проверяли, что:\n",
    "- вероятность успеха - соотношение начальной суммы к цели\n",
    "- ожидаемое количество ставок - произведение начальной суммы и желаймой суммы выигрыша(выигрыш - желаемая сумма минус начальня)"
   ]
  },
  {
   "cell_type": "markdown",
   "id": "dca6d832",
   "metadata": {},
   "source": [
    "Практическое значение моделирования в том, что оно может предложить ответы на вопросы, слишком трудные для аналитического решения."
   ]
  },
  {
   "cell_type": "markdown",
   "id": "4650e42e",
   "metadata": {},
   "source": [
    "<b>?</b> Сколько денег игрок может ожидать унести домой в случае, если он решает ограничить число ставок. (Допустим игрок максимум успеет поставить 500 ставок, начальная сумма 100)"
   ]
  },
  {
   "cell_type": "markdown",
   "id": "d6af5212",
   "metadata": {},
   "source": [
    "## Неполный цикл"
   ]
  },
  {
   "cell_type": "markdown",
   "id": "215a2268",
   "metadata": {},
   "source": [
    "Иногда структура управления потоком for или while не очень точно соответствует необходимому циклу.\n",
    "- допустим вы хотите проверять условие не в начале цикла, а в середине т. е. сначала сделать некоторые операции, а затем проверить выполненение условий (необходимо, когда для проверки выполнения условий нужно сначала выполнить некоторые вычисления)"
   ]
  },
  {
   "cell_type": "code",
   "execution_count": null,
   "id": "9ee2b374",
   "metadata": {},
   "outputs": [],
   "source": [
    "# пример: генерировать точки из квадрата 2 на 2 до тех пор пока они попадают в круг,\n",
    "# центр, которого в центре квадрата и радиус равен 1."
   ]
  },
  {
   "cell_type": "code",
   "execution_count": 20,
   "id": "4a85f152",
   "metadata": {},
   "outputs": [
    {
     "data": {
      "text/plain": [
       "0.6189492562690971"
      ]
     },
     "execution_count": 20,
     "metadata": {},
     "output_type": "execute_result"
    }
   ],
   "source": [
    "random.random() #shift + tab чтобы посмотреть описание функции\n",
    "# shift + enter - чтобы выполнить код в ячейке и перейти к следующей\n",
    "# ctr + enter - чтобы выполнить код в ячейке и остаться"
   ]
  },
  {
   "cell_type": "code",
   "execution_count": 21,
   "id": "ddd114c6",
   "metadata": {},
   "outputs": [
    {
     "data": {
      "text/plain": [
       "0.25825974252289874"
      ]
     },
     "execution_count": 21,
     "metadata": {},
     "output_type": "execute_result"
    }
   ],
   "source": [
    "2 * random.random()"
   ]
  },
  {
   "cell_type": "code",
   "execution_count": 22,
   "id": "692dba8a",
   "metadata": {
    "scrolled": false
   },
   "outputs": [
    {
     "name": "stdout",
     "output_type": "stream",
     "text": [
      "1.1835675967481898 1.0299003614770326\n",
      "0.6485281952402941 0.6925637032587182\n",
      "1.7860523881374757 1.0987362495574247\n",
      "0.4057874544202331 1.5601403833835343\n",
      "0.6590546504833341 1.1659549188283123\n",
      "0.5124763286473868 0.6004463291786997\n",
      "0.39489148928798534 0.5191596200299406\n",
      "0.9026778061880392 0.9090395672940315\n",
      "1.901875971195088 0.7345954117511446\n",
      "1.7345042937544504 1.1117312569694153\n",
      "1.0673846821041966 1.6190304292087154\n",
      "1.461677525829757 0.45305106616434476\n"
     ]
    }
   ],
   "source": [
    "while True: # это вечный цикл, мы не планируем останавливаться\n",
    "    # пусть квадрат - [0, 2] x [0, 2]\n",
    "    # тогда его центр (1, 1)\n",
    "    # генерируем два случайных числа от 0 до 2\n",
    "    x = 2 * random.random()\n",
    "    y = 2 * random.random()\n",
    "    if ((x - 1) ** 2 + (y - 1) ** 2) >= 1:\n",
    "        break\n",
    "    print(x, y)"
   ]
  },
  {
   "cell_type": "code",
   "execution_count": 23,
   "id": "39ef17b3",
   "metadata": {},
   "outputs": [
    {
     "name": "stdout",
     "output_type": "stream",
     "text": [
      "0.7959696805793537 0.24910265694277922\n",
      "1.610353894135282 0.9013843673562161\n",
      "1.1619178484540424 1.6516042344934254\n"
     ]
    }
   ],
   "source": [
    "X = []\n",
    "Y = []\n",
    "while True: # это вечный цикл, мы не планируем останавливаться\n",
    "    # пусть квадрат - [0, 2] x [0, 2]\n",
    "    # тогда его центр (1, 1)\n",
    "    # генерируем два случайных числа от 0 до 2\n",
    "    x = 2 * random.random()\n",
    "    y = 2 * random.random()\n",
    "    if ((x - 1) ** 2 + (y - 1) ** 2) >= 1:\n",
    "        break\n",
    "    X.append(x)\n",
    "    Y.append(y)\n",
    "    print(x, y)"
   ]
  },
  {
   "cell_type": "code",
   "execution_count": 24,
   "id": "072cf74a",
   "metadata": {
    "scrolled": false
   },
   "outputs": [
    {
     "data": {
      "text/plain": [
       "<matplotlib.collections.PathCollection at 0x7ff073999d90>"
      ]
     },
     "execution_count": 24,
     "metadata": {},
     "output_type": "execute_result"
    },
    {
     "data": {
      "image/png": "[encoded data removed]",
      "text/plain": [
       "<Figure size 432x288 with 1 Axes>"
      ]
     },
     "metadata": {
      "needs_background": "light"
     },
     "output_type": "display_data"
    },
    {
     "data": {
      "text/plain": [
       "<Figure size 800x800 with 0 Axes>"
      ]
     },
     "metadata": {},
     "output_type": "display_data"
    }
   ],
   "source": [
    "fig,ax = plt.subplots(1)\n",
    "plt.figure(figsize=(4,4), dpi = 200)\n",
    "circle = plt.Circle((1,1),1, fill = False)\n",
    "ax.add_patch(circle)\n",
    "ax.scatter(X, Y)\n",
    "ax.scatter([1], [1], color = 'red')\n",
    "ax.scatter([x], [y], color = 'g')"
   ]
  },
  {
   "cell_type": "markdown",
   "id": "e3436135",
   "metadata": {},
   "source": [
    "! Когда реализуете цикл важно обдумать следующую ситуацию: что, если условие продолжения цикла будет всегда удовлетворяться?\n",
    "\n",
    "Ситуации две:\n",
    "- либо что-то бесконечно делается и мы это наблюдаем \n",
    "- либо кажется, что программа ничего не делает\n",
    "\n",
    "Можно попробовать проверить, что условие выхода всегда срабатывает, но это сделать бывает затруднительно. Один из способо поиска такой ошибки - трассировка ( на каждой операции цикла что-то выводить в лог или просто в окно вывода )"
   ]
  },
  {
   "cell_type": "markdown",
   "id": "f902c037",
   "metadata": {},
   "source": [
    "Один из фактов фундаметальной информатики состоит в том, что невозможно написать алгоритм, который будет всегда обнаруживать бесконечные циклы и сообщать нам. "
   ]
  },
  {
   "cell_type": "markdown",
   "id": "92928223",
   "metadata": {},
   "source": [
    "Все программисты знают, что программы часто не работают сразу, как планировалось вначале, поэтому в программе придется разобраться и выяснить, что нужно делать. Сначала используйте явные трассировки для проверки своего понимания и ожиданий. По мере приобретения опыта в создании собственных циклов вы начнете думать в терминах того, что могла бы дать трассировка. Задайте себе следующие виды вопросов: каковы будут значения переменных после первой итерации цикла? После второй? Если ли у этой программы способ попасть в вечный цикл?"
   ]
  },
  {
   "cell_type": "markdown",
   "id": "e72540d4",
   "metadata": {},
   "source": [
    "1. Что будет если пропустить двоеточие в операторах if, while, for?"
   ]
  },
  {
   "cell_type": "code",
   "execution_count": null,
   "id": "aedc1ca5",
   "metadata": {},
   "outputs": [],
   "source": [
    "# решение\n"
   ]
  },
  {
   "cell_type": "markdown",
   "id": "1fcc640f",
   "metadata": {},
   "source": [
    "У каждого оператора в блоке должен быть одинаковый отступ, если это не так то во время компиляции произойдет ошикба IndentationError. Обычно программисты Python используют четыре пробела.  "
   ]
  },
  {
   "cell_type": "code",
   "execution_count": 25,
   "id": "071cfcd5",
   "metadata": {},
   "outputs": [
    {
     "ename": "IndentationError",
     "evalue": "unexpected indent (<ipython-input-25-9099488a6062>, line 4)",
     "output_type": "error",
     "traceback": [
      "\u001b[0;36m  File \u001b[0;32m\"<ipython-input-25-9099488a6062>\"\u001b[0;36m, line \u001b[0;32m4\u001b[0m\n\u001b[0;31m    print(2)# 5 пробелов\u001b[0m\n\u001b[0m    ^\u001b[0m\n\u001b[0;31mIndentationError\u001b[0m\u001b[0;31m:\u001b[0m unexpected indent\n"
     ]
    }
   ],
   "source": [
    "# пример\n",
    "if 5 > 4:\n",
    "    print(1) # 4 пробела\n",
    "     print(2)# 5 пробелов"
   ]
  },
  {
   "cell_type": "code",
   "execution_count": null,
   "id": "77a815da",
   "metadata": {},
   "outputs": [],
   "source": [
    "# пример\n",
    "if 5 > 4:\n",
    "     print(1)# 5 пробелов\n",
    "     print(2)# 5 пробелов, теперь число пробелов одинаковое все работает"
   ]
  },
  {
   "cell_type": "markdown",
   "id": "cf645086",
   "metadata": {},
   "source": [
    "Символы табуляции для пробелов использовать нельзя, во многих редакторах при нажатии <Tab> будут вставляться 4 пробела."
   ]
  },
  {
   "cell_type": "markdown",
   "id": "ee51e378",
   "metadata": {},
   "source": [
    "Чтобы написать разбить длинную строку кода на несколько нужно использова \\"
   ]
  },
  {
   "cell_type": "code",
   "execution_count": 30,
   "id": "8d1b4f05",
   "metadata": {},
   "outputs": [
    {
     "name": "stdout",
     "output_type": "stream",
     "text": [
      "60\n"
     ]
    }
   ],
   "source": [
    "a = 1 + 2 + 3 + 4 + 1 + 2 + 3 + 4 + 1 + 2 + 3 + 4 + 1 + 2 + 3 + 4 + 1 + 2 + 3 + 4 + 1 + 2 + 3 + 4 \n",
    "print(a)"
   ]
  },
  {
   "cell_type": "code",
   "execution_count": 27,
   "id": "22dff281",
   "metadata": {},
   "outputs": [
    {
     "ename": "SyntaxError",
     "evalue": "invalid syntax (<ipython-input-27-f712731c1ce7>, line 1)",
     "output_type": "error",
     "traceback": [
      "\u001b[0;36m  File \u001b[0;32m\"<ipython-input-27-f712731c1ce7>\"\u001b[0;36m, line \u001b[0;32m1\u001b[0m\n\u001b[0;31m    a = 1 + 2 + 3 + 4 + # так получим ошибку\u001b[0m\n\u001b[0m                        ^\u001b[0m\n\u001b[0;31mSyntaxError\u001b[0m\u001b[0;31m:\u001b[0m invalid syntax\n"
     ]
    }
   ],
   "source": [
    "a = 1 + 2 + 3 + 4 + # так получим ошибку\n",
    "1 + 2 + 3 + 4 +\n",
    "1 + 2 + 3 + 4 +\n",
    "1 + 2 + 3 + 4 +\n",
    "1 + 2 + 3 + 4 +\n",
    "1 + 2 + 3 + 4 "
   ]
  },
  {
   "cell_type": "code",
   "execution_count": 29,
   "id": "6614d272",
   "metadata": {},
   "outputs": [
    {
     "name": "stdout",
     "output_type": "stream",
     "text": [
      "60\n"
     ]
    }
   ],
   "source": [
    "a = 1 + 2 + 3 + 4  + \\\n",
    "    1 + 2 + 3 + 4  + \\\n",
    "    1 + 2 + 3 + 4  + \\\n",
    "    1 + 2 + 3 + 4  + \\\n",
    "    1 + 2 + 3 + 4  + \\\n",
    "    1 + 2 + 3 + 4 \n",
    "print(a)"
   ]
  },
  {
   "cell_type": "code",
   "execution_count": 31,
   "id": "6b7116da",
   "metadata": {},
   "outputs": [
    {
     "name": "stdout",
     "output_type": "stream",
     "text": [
      "24\n"
     ]
    }
   ],
   "source": [
    "# способ чтения аргументов из командой строки\n",
    "a = input()"
   ]
  },
  {
   "cell_type": "code",
   "execution_count": 32,
   "id": "da3e839a",
   "metadata": {},
   "outputs": [
    {
     "data": {
      "text/plain": [
       "'24'"
      ]
     },
     "execution_count": 32,
     "metadata": {},
     "output_type": "execute_result"
    }
   ],
   "source": [
    "a"
   ]
  },
  {
   "cell_type": "code",
   "execution_count": 33,
   "id": "3f7cab75",
   "metadata": {},
   "outputs": [
    {
     "data": {
      "text/plain": [
       "str"
      ]
     },
     "execution_count": 33,
     "metadata": {},
     "output_type": "execute_result"
    }
   ],
   "source": [
    "type(a)"
   ]
  },
  {
   "cell_type": "markdown",
   "id": "f944b671",
   "metadata": {},
   "source": [
    "Если хотим преобразовать строку в целое чилсо использует оператор int('5'), если в действительное, то float('1.2')"
   ]
  },
  {
   "cell_type": "code",
   "execution_count": null,
   "id": "7185fe2a",
   "metadata": {},
   "outputs": [],
   "source": [
    "int('5')"
   ]
  },
  {
   "cell_type": "code",
   "execution_count": 34,
   "id": "7e843297",
   "metadata": {},
   "outputs": [
    {
     "data": {
      "text/plain": [
       "int"
      ]
     },
     "execution_count": 34,
     "metadata": {},
     "output_type": "execute_result"
    }
   ],
   "source": [
    "type(int('5'))"
   ]
  },
  {
   "cell_type": "code",
   "execution_count": 35,
   "id": "463c3d49",
   "metadata": {},
   "outputs": [
    {
     "data": {
      "text/plain": [
       "1.2"
      ]
     },
     "execution_count": 35,
     "metadata": {},
     "output_type": "execute_result"
    }
   ],
   "source": [
    "float('1.2')"
   ]
  },
  {
   "cell_type": "code",
   "execution_count": 36,
   "id": "4febd2a1",
   "metadata": {},
   "outputs": [
    {
     "data": {
      "text/plain": [
       "float"
      ]
     },
     "execution_count": 36,
     "metadata": {},
     "output_type": "execute_result"
    }
   ],
   "source": [
    "type(float('1.2'))"
   ]
  },
  {
   "cell_type": "code",
   "execution_count": 53,
   "id": "4a832c96",
   "metadata": {},
   "outputs": [
    {
     "ename": "ValueError",
     "evalue": "could not convert string to float: '0,6'",
     "output_type": "error",
     "traceback": [
      "\u001b[0;31m---------------------------------------------------------------------------\u001b[0m",
      "\u001b[0;31mValueError\u001b[0m                                Traceback (most recent call last)",
      "\u001b[0;32m<ipython-input-53-877f1b70b026>\u001b[0m in \u001b[0;36m<module>\u001b[0;34m\u001b[0m\n\u001b[0;32m----> 1\u001b[0;31m \u001b[0mfloat\u001b[0m\u001b[0;34m(\u001b[0m\u001b[0ma\u001b[0m\u001b[0;34m)\u001b[0m\u001b[0;34m\u001b[0m\u001b[0;34m\u001b[0m\u001b[0m\n\u001b[0m\u001b[1;32m      2\u001b[0m \u001b[0ma\u001b[0m\u001b[0;34m=\u001b[0m\u001b[0minput\u001b[0m\u001b[0;34m(\u001b[0m\u001b[0;34m)\u001b[0m\u001b[0;34m\u001b[0m\u001b[0;34m\u001b[0m\u001b[0m\n\u001b[1;32m      3\u001b[0m \u001b[0;32mif\u001b[0m \u001b[0ma\u001b[0m\u001b[0;34m>\u001b[0m\u001b[0;36m0\u001b[0m \u001b[0;32mand\u001b[0m \u001b[0ma\u001b[0m\u001b[0;34m<\u001b[0m\u001b[0;36m1\u001b[0m\u001b[0;34m:\u001b[0m\u001b[0;34m\u001b[0m\u001b[0;34m\u001b[0m\u001b[0m\n\u001b[1;32m      4\u001b[0m     \u001b[0mprint\u001b[0m\u001b[0;34m(\u001b[0m\u001b[0;34m'True'\u001b[0m\u001b[0;34m)\u001b[0m\u001b[0;34m\u001b[0m\u001b[0;34m\u001b[0m\u001b[0m\n\u001b[1;32m      5\u001b[0m \u001b[0;32melse\u001b[0m\u001b[0;34m:\u001b[0m\u001b[0;34m\u001b[0m\u001b[0;34m\u001b[0m\u001b[0m\n",
      "\u001b[0;31mValueError\u001b[0m: could not convert string to float: '0,6'"
     ]
    }
   ],
   "source": [
    "float(a)\n",
    "a=input()\n",
    "if a>0 and a<1:\n",
    "    print('True')\n",
    "else:\n",
    "    print('False')"
   ]
  },
  {
   "cell_type": "markdown",
   "id": "2c24bfe7",
   "metadata": {},
   "source": [
    "2. Составьте программу, получающую в командной строке три целочисленных аргумента и выводящую слова 'equal', если все три равны и 'not equal' в противном случае"
   ]
  },
  {
   "cell_type": "code",
   "execution_count": 45,
   "id": "a088b602",
   "metadata": {},
   "outputs": [
    {
     "name": "stdout",
     "output_type": "stream",
     "text": [
      "23\n",
      "23\n",
      "23\n",
      "equal\n"
     ]
    }
   ],
   "source": [
    "# решение\n",
    "# шаг 1: реализуйте ввод трех целых чисел использую методы  input() и int()\n",
    "int(a)\n",
    "a = input()\n",
    "b = input()\n",
    "c = input()\n",
    "if a == b and b==c:\n",
    "    print('equal')\n",
    "else:\n",
    "    print('not equal')\n",
    "# шаг 2: проверьте равны ли три числа между собой и выведе соотвествующий ответ\n"
   ]
  },
  {
   "cell_type": "markdown",
   "id": "aa8939cd",
   "metadata": {},
   "source": [
    "3. Составьте фрагмент кода, получающий два аргумента командной строки типа float и выводящий True, если они находятся в диапозоне от 0.0 до 1.0 иначе False"
   ]
  },
  {
   "cell_type": "code",
   "execution_count": 55,
   "id": "ca88c41c",
   "metadata": {},
   "outputs": [
    {
     "ename": "ValueError",
     "evalue": "could not convert string to float: '0,6'",
     "output_type": "error",
     "traceback": [
      "\u001b[0;31m---------------------------------------------------------------------------\u001b[0m",
      "\u001b[0;31mValueError\u001b[0m                                Traceback (most recent call last)",
      "\u001b[0;32m<ipython-input-55-45cb8cdb3217>\u001b[0m in \u001b[0;36m<module>\u001b[0;34m\u001b[0m\n\u001b[1;32m      1\u001b[0m \u001b[0;31m# решение, чем-то похоже на решение пред задачи\u001b[0m\u001b[0;34m\u001b[0m\u001b[0;34m\u001b[0m\u001b[0;34m\u001b[0m\u001b[0m\n\u001b[0;32m----> 2\u001b[0;31m \u001b[0mfloat\u001b[0m\u001b[0;34m(\u001b[0m\u001b[0ma\u001b[0m\u001b[0;34m)\u001b[0m\u001b[0;34m\u001b[0m\u001b[0;34m\u001b[0m\u001b[0m\n\u001b[0m\u001b[1;32m      3\u001b[0m \u001b[0ma\u001b[0m\u001b[0;34m=\u001b[0m\u001b[0minput\u001b[0m\u001b[0;34m(\u001b[0m\u001b[0;34m)\u001b[0m\u001b[0;34m\u001b[0m\u001b[0;34m\u001b[0m\u001b[0m\n\u001b[1;32m      4\u001b[0m \u001b[0;32mif\u001b[0m \u001b[0ma\u001b[0m\u001b[0;34m>\u001b[0m\u001b[0;36m0\u001b[0m \u001b[0;32mand\u001b[0m \u001b[0ma\u001b[0m\u001b[0;34m<\u001b[0m\u001b[0;36m1\u001b[0m\u001b[0;34m:\u001b[0m\u001b[0;34m\u001b[0m\u001b[0;34m\u001b[0m\u001b[0m\n\u001b[1;32m      5\u001b[0m     \u001b[0mprint\u001b[0m\u001b[0;34m(\u001b[0m\u001b[0;34m'True'\u001b[0m\u001b[0;34m)\u001b[0m\u001b[0;34m\u001b[0m\u001b[0;34m\u001b[0m\u001b[0m\n",
      "\u001b[0;31mValueError\u001b[0m: could not convert string to float: '0,6'"
     ]
    }
   ],
   "source": [
    "# решение, чем-то похоже на решение пред задачи\n",
    "float(a)\n",
    "a=input()\n",
    "if a>0 and a<1:\n",
    "    print('True')\n",
    "else:\n",
    "    print('False')"
   ]
  },
  {
   "cell_type": "markdown",
   "id": "85e6f9ac",
   "metadata": {},
   "source": [
    "4. Что выведет каждый из следующих фрагментов кода <br>\n",
    "a. <code> \n",
    "    j = 0\n",
    "    for i in range(j, 10):\n",
    "        j += 1 \n",
    "    print(j)\n",
    "</code> <br>\n",
    "_____________\n",
    "b. <code> \n",
    "    j = 0\n",
    "    for i in range(10):\n",
    "        j += j\n",
    "    print(j)\n",
    "</code>\n",
    "___________\n",
    "c. <code>\n",
    "    for j in range(10):\n",
    "        j += j\n",
    "    print(j)\n",
    "   </code>"
   ]
  },
  {
   "cell_type": "markdown",
   "id": "00cf3260",
   "metadata": {},
   "source": [
    "решение: запишите ответы для каждого фрагмента кода\n",
    "подсказка: можете запускить данный код с трассировкой для каждой итерации цикла, чтобы разобраться что происходит <br>\n",
    "a = <br>\n",
    "b = <br>\n",
    "c = <br>"
   ]
  },
  {
   "cell_type": "markdown",
   "id": "79b33b0c",
   "metadata": {},
   "source": [
    "5. В отличие от гармонического ряда, сумма последовательности\n",
    "$$ \\frac{1}{1^2} +\\frac{1}{2^2} + ... + \\frac{1}{n^2} $$\n",
    "сходится к константе при $n\\to \\infty$. Эта константа $\\frac{\\pi^2}{6}$ т. е.\n",
    "$$ \\frac{1}{1^2} +\\frac{1}{2^2} + ... + \\frac{1}{n^2} \\to \\frac{\\pi^2}{6}, \\text{ при } n \\to \\infty $$\n",
    "Напишите цикл, который вычисляет эту сумму при заданном $n$, число $n$ вводится. Сумма сохраняется в переменную total типа float, которая инициализируется 0.0.\n",
    "Насколько сумма при n = 1000 будет отличаться от $\\frac{\\pi^2}{6}$?"
   ]
  },
  {
   "cell_type": "code",
   "execution_count": 2,
   "id": "099bf8ae",
   "metadata": {},
   "outputs": [],
   "source": [
    "# чтобы получить число pi\n",
    "from numpy import pi # импортируем константу из библиотеки numpy"
   ]
  },
  {
   "cell_type": "code",
   "execution_count": 3,
   "id": "bdfbfc3b",
   "metadata": {},
   "outputs": [
    {
     "data": {
      "text/plain": [
       "3.141592653589793"
      ]
     },
     "execution_count": 3,
     "metadata": {},
     "output_type": "execute_result"
    }
   ],
   "source": [
    "pi # пи с некоторой точностью"
   ]
  },
  {
   "cell_type": "code",
   "execution_count": null,
   "id": "0255e46d",
   "metadata": {},
   "outputs": [],
   "source": [
    "# решение\n",
    "n = 100\n",
    "total = 0\n",
    "for i in range(1,n):\n",
    "    total=total+1/(i**2)\n",
    "delta = total-pi**2/6\n",
    "print(total)\n",
    "print(delta)"
   ]
  },
  {
   "cell_type": "markdown",
   "id": "4ac938e9",
   "metadata": {},
   "source": [
    "6. Такси Рамануджана. С. Рамануджан - индийский математик, славившийся своей интуицией в области чисел. Когда английский математик Г. Х. Харди навестил его однажды в больнице, он обмолвился, что номеров такси на котором он приехал, было 1729, такое скучное и заурядное число. На что Рамануджан ответил: \"Нет, нет! Это очень интересно число. Это наименьшее число, выражаемое как сумма двух кубов двумя разными способами.\" Проверьте это заявление, создав программу, получающую $n$  в аргументе командной строки и выводящую все целые числа, меньше или равные  $n$, которые могут быть выражены как сумма двух кубов двумя разными способами. Другими словами, найдите различные положительные числа $a,b,c,d$, удовлетворяющие условию \n",
    "$$ a^3 + b^3 = c^3 + d^3 $$\n",
    "Используйте четыре вложенных цикла for."
   ]
  },
  {
   "cell_type": "code",
   "execution_count": null,
   "id": "31380c05",
   "metadata": {},
   "outputs": [],
   "source": [
    "# решение\n",
    "n = input()\n",
    "for a in range(1,n):\n",
    "    for b in range(1,n):\n",
    "        if b!=a:\n",
    "            for c in range(1,n):\n",
    "                if c!=b and c!=a:\n",
    "                    for d in range(1,n):\n",
    "                        if d!=b and d!=a and d!=c:\n",
    "                            if a**3+b**3 == c**3+d**3 and a**3+b**3 == n:\n",
    "                                print(a,b,c,d,n)\n",
    "                            else:\n",
    "                                print('Это не такое число')\n"
   ]
  },
  {
   "cell_type": "markdown",
   "id": "7ee51738",
   "metadata": {},
   "source": [
    "Мини тест"
   ]
  },
  {
   "cell_type": "markdown",
   "id": "ef498f5c",
   "metadata": {},
   "source": [
    "# Массивы (списки)"
   ]
  },
  {
   "cell_type": "markdown",
   "id": "b71c8f72",
   "metadata": {},
   "source": [
    "# Функции"
   ]
  },
  {
   "cell_type": "markdown",
   "id": "722d5e38",
   "metadata": {},
   "source": [
    "# Реализация функции скалярного произведения"
   ]
  },
  {
   "cell_type": "markdown",
   "id": "30095ef9",
   "metadata": {},
   "source": [
    "# Реализация метода обучения персептрона"
   ]
  },
  {
   "cell_type": "markdown",
   "id": "09b4f088",
   "metadata": {},
   "source": [
    "# Тест"
   ]
  },
  {
   "cell_type": "code",
   "execution_count": null,
   "id": "4b7565c1",
   "metadata": {},
   "outputs": [],
   "source": []
  }
 ],
 "metadata": {
  "kernelspec": {
   "display_name": "Python 3",
   "language": "python",
   "name": "python3"
  },
  "language_info": {
   "codemirror_mode": {
    "name": "ipython",
    "version": 3
   },
   "file_extension": ".py",
   "mimetype": "text/x-python",
   "name": "python",
   "nbconvert_exporter": "python",
   "pygments_lexer": "ipython3",
   "version": "3.8.8"
  }
 },
 "nbformat": 4,
 "nbformat_minor": 5
}
